{
  "nbformat": 4,
  "nbformat_minor": 0,
  "metadata": {
    "colab": {
      "provenance": []
    },
    "kernelspec": {
      "name": "python3",
      "display_name": "Python 3"
    },
    "language_info": {
      "name": "python"
    }
  },
  "cells": [
    {
      "cell_type": "code",
      "source": [
        "!pip install bardapi\n",
        "\n",
        "import re\n",
        "import time\n",
        "\n",
        "import pandas as pd\n",
        "from bardapi import Bard\n",
        "\n",
        "\n",
        "def remove_multiple_newlines(df):\n",
        "    \"\"\"\n",
        "    Function to remove multiple consecutive newlines from a Pandas DataFrame.\n",
        "    \"\"\"\n",
        "    clean_df = df.applymap(lambda x: re.sub(r'\\n+', '\\n', str(x)))\n",
        "    return clean_df\n",
        "\n",
        "def answer(questions, token, context=\"\"):\n",
        "  \"\"\" token : the \"__Secure-1PSID\" cookie for bard.google.com \"\"\"\n",
        "  bard = Bard(token=token)\n",
        "  resp = []\n",
        "  for q in questions:\n",
        "    print(q)\n",
        "    r = bard.get_answer(f\"{context} {q}\")['content']\n",
        "    resp.append(r)\n",
        "    time.sleep(1)\n",
        "    print(r)\n",
        "    print()\n",
        "  return resp"
      ],
      "metadata": {
        "id": "hKWIIPbFCgCw"
      },
      "execution_count": null,
      "outputs": []
    },
    {
      "cell_type": "code",
      "source": [
        "questions = \"\"\"Is the business model of an Global Markets business supportable any longer in the post Volker world?\n",
        "With trading becoming more and more of a commodity and requiring increasingly expensive technology, what parts of Sales and Trading should Broker-Dealers be investing in?\n",
        "Do you believe in the multi-business model of a modern Broker-Dealer?\n",
        "Are Each Of These Business Models Self-supporting? Should Be?\n",
        "How should each one be“priced”? Should“bundling”encouraged discouraged?\n",
        "What are the inherent conflicts of interest between these lines of business? And how should they be managed? Who is (dis-) advantaged by the conflicts? Think Archegos. Post tech boom Research settlement.\n",
        "As Broker-Dealers do not have fiduciary duty to its customers, how you should interact with them? Why would you interact with them?\n",
        "What is the distribution (pdf) of income?\n",
        "What is the distribution of net wealth?\n",
        "What might the distribution have to look like to give you median values that are his much smaller than mean?\n",
        "What is the distribution (pdf) of prices?\n",
        "What is a reasonable first-order approximation distribution for stock returns?\"\"\".split(\"\\n\")\n",
        "\n",
        "assert 5 <= len(questions)\n",
        "assert len(questions) <= 25\n",
        "\n",
        "answer(questions=questions,\n",
        "       token='WwjB-QOhTklMjIsvQsxi0T2V5PoHYJ9aVdS3Ksz8v6bGWfJdKeB-xt0jBM027nB_GxjmKw.',\n",
        "       context =\"You are an intelligent quant portfolio manager. Answer the following question in brief and cogent language.\")\n",
        "\n",
        "df = remove_multiple_newlines(pd.DataFrame(zip(questions, resp), columns=[\"Questions\", \"Solution\"]))\n",
        "df.to_csv(\"solutions.csv\", index=False)\n"
      ],
      "metadata": {
        "id": "Cj5TbX1IMLoi"
      },
      "execution_count": null,
      "outputs": []
    },
    {
      "cell_type": "markdown",
      "source": [
        "### Headless browser (Selenium) to get token"
      ],
      "metadata": {
        "id": "b7fUEgVbMzf3"
      }
    },
    {
      "cell_type": "code",
      "source": [
        "!pip install selenium\n",
        "!apt-get update\n",
        "!apt-get --only-upgrade install google-chrome-stable\n",
        "\n",
        "import requests\n",
        "\n",
        "# Get the latest stable version of Chrome from the official website\n",
        "# response = requests.get(\"https://chromedriver.chromium.org/downloads\")\n",
        "# latest_version = response.text.split('<h2 id=\"version-')[1].split(\"</h2>\")[0]\n",
        "\n",
        "# # Download the corresponding ChromeDriver based on the latest version\n",
        "# !wget https://chromedriver.storage.googleapis.com/{latest_version}/chromedriver_linux64.zip\n",
        "!wget https://chromedriver.storage.googleapis.com/index.html?path=114.0.5735.16/\n",
        "!unzip chromedriver_linux64.zip\n",
        "\n",
        "# Provide executable permissions to the chromedriver executable\n",
        "!chmod +x chromedriver\n"
      ],
      "metadata": {
        "colab": {
          "base_uri": "https://localhost:8080/"
        },
        "id": "NUcQf_p8_PPS",
        "outputId": "af0950af-d669-4e76-ce52-90cf00f629e5"
      },
      "execution_count": 21,
      "outputs": [
        {
          "output_type": "stream",
          "name": "stdout",
          "text": [
            "\r0% [Working]\r            \rHit:1 https://cloud.r-project.org/bin/linux/ubuntu focal-cran40/ InRelease\n",
            "\r0% [Connecting to archive.ubuntu.com (185.125.190.36)] [Connecting to security.\r                                                                               \rHit:2 https://dl.google.com/linux/chrome/deb stable InRelease\n",
            "\r0% [Connecting to archive.ubuntu.com (185.125.190.36)] [Connecting to security.\r0% [Connecting to archive.ubuntu.com (185.125.190.36)] [Waiting for headers] [C\r                                                                               \rHit:3 https://developer.download.nvidia.com/compute/cuda/repos/ubuntu2004/x86_64  InRelease\n",
            "\r0% [Connecting to archive.ubuntu.com (185.125.190.36)] [Waiting for headers] [W\r                                                                               \r0% [Waiting for headers] [Waiting for headers] [Waiting for headers]\r                                                                    \rHit:4 http://security.ubuntu.com/ubuntu focal-security InRelease\n",
            "\r                                                                    \r0% [Waiting for headers] [Waiting for headers]\r                                              \rHit:5 http://ppa.launchpad.net/c2d4u.team/c2d4u4.0+/ubuntu focal InRelease\n",
            "Hit:6 http://archive.ubuntu.com/ubuntu focal InRelease\n",
            "Hit:7 http://archive.ubuntu.com/ubuntu focal-updates InRelease\n",
            "Hit:8 http://ppa.launchpad.net/cran/libgit2/ubuntu focal InRelease\n",
            "Hit:9 http://archive.ubuntu.com/ubuntu focal-backports InRelease\n",
            "Hit:10 http://ppa.launchpad.net/deadsnakes/ppa/ubuntu focal InRelease\n",
            "Hit:11 http://ppa.launchpad.net/graphics-drivers/ppa/ubuntu focal InRelease\n",
            "Hit:12 http://ppa.launchpad.net/ubuntugis/ppa/ubuntu focal InRelease\n",
            "Reading package lists... Done\n",
            "Reading package lists... Done\n",
            "Building dependency tree       \n",
            "Reading state information... Done\n",
            "google-chrome-stable is already the newest version (113.0.5672.126-1).\n",
            "0 upgraded, 0 newly installed, 0 to remove and 27 not upgraded.\n",
            "--2023-05-22 15:07:49--  https://chromedriver.storage.googleapis.com/index.html?path=114.0.5735.16/\n",
            "Resolving chromedriver.storage.googleapis.com (chromedriver.storage.googleapis.com)... 172.253.122.128, 2607:f8b0:4004:c09::80\n",
            "Connecting to chromedriver.storage.googleapis.com (chromedriver.storage.googleapis.com)|172.253.122.128|:443... connected.\n",
            "HTTP request sent, awaiting response... 200 OK\n",
            "Length: 10574 (10K) [text/html]\n",
            "Saving to: ‘index.html?path=114.0.5735.16%2F’\n",
            "\n",
            "index.html?path=114 100%[===================>]  10.33K  --.-KB/s    in 0s      \n",
            "\n",
            "2023-05-22 15:07:49 (119 MB/s) - ‘index.html?path=114.0.5735.16%2F’ saved [10574/10574]\n",
            "\n",
            "Archive:  chromedriver_linux64.zip\n",
            "replace chromedriver? [y]es, [n]o, [A]ll, [N]one, [r]ename: y\n",
            "  inflating: chromedriver            \n",
            "replace LICENSE.chromedriver? [y]es, [n]o, [A]ll, [N]one, [r]ename: y\n",
            "  inflating: LICENSE.chromedriver    \n"
          ]
        }
      ]
    },
    {
      "cell_type": "code",
      "source": [
        "from selenium import webdriver\n",
        "from selenium.webdriver.chrome.options import Options\n",
        "\n",
        "# Configure Chrome options for headless browsing\n",
        "chrome_options = Options()\n",
        "chrome_options.add_argument(\"--headless\")  # Comment this line if you want to see the browser window\n",
        "chrome_options.add_argument(\"--no-sandbox\")\n",
        "chrome_options.add_argument(\"--disable-dev-shm-usage\")\n",
        "chrome_options.add_argument(\"--disable-extensions\")\n",
        "\n",
        "\n",
        "# Set path to chromedriver as per your configuration\n",
        "chrome_driver_path = \"/content/chromedriver\"\n",
        "\n",
        "# Create a Chrome driver instance with the configured options\n",
        "browser = webdriver.Chrome(chrome_driver_path, options=chrome_options)\n",
        "\n",
        "# Navigate to www.bard.google.com\n",
        "browser.get(\"https://bard.google.com/\")\n",
        "\n",
        "# Get the session ID\n",
        "session_id = browser.session_id\n",
        "\n",
        "# Print the session ID\n",
        "print(\"Session ID:\", session_id)\n",
        "\n",
        "# Print all cookies\n",
        "cookies = browser.get_cookies()\n",
        "for cookie in cookies:\n",
        "  print(cookie)\n",
        "\n",
        "# Close the browser\n",
        "browser.quit()\n"
      ],
      "metadata": {
        "colab": {
          "base_uri": "https://localhost:8080/"
        },
        "id": "5XmChNFJ92BF",
        "outputId": "37e0fee7-5727-4895-f7e7-33faffe98a2f"
      },
      "execution_count": 40,
      "outputs": [
        {
          "output_type": "stream",
          "name": "stderr",
          "text": [
            "<ipython-input-40-dcf9fe5143e9>:16: DeprecationWarning: executable_path has been deprecated, please pass in a Service object\n",
            "  browser = webdriver.Chrome(chrome_driver_path, options=chrome_options)\n"
          ]
        },
        {
          "output_type": "stream",
          "name": "stdout",
          "text": [
            "Session ID: 9f9bc8a66d8ee8e0aefe319596ba4a89\n",
            "{'domain': '.bard.google.com', 'expiry': 1719329099, 'httpOnly': False, 'name': '_ga_H68ZH5W8EE', 'path': '/', 'sameSite': 'Lax', 'secure': False, 'value': 'GS1.1.1684769099.1.0.1684769099.0.0.0'}\n",
            "{'domain': '.bard.google.com', 'expiry': 1719329099, 'httpOnly': False, 'name': '_ga', 'path': '/', 'sameSite': 'Lax', 'secure': False, 'value': 'GA1.1.117723923.1684769100'}\n",
            "{'domain': '.google.com', 'expiry': 1700580299, 'httpOnly': True, 'name': 'NID', 'path': '/', 'sameSite': 'Lax', 'secure': False, 'value': '511=AVUmm6gxGOQkM3f6TuGwZ89GaVbgDjFZ_2pIS-owhcgz7VtgFQui6LWJ_9YQMjlfCnif0aBbpMZEHnSqvECqUBRrSDJozrUzswqRVLOZCBxyIdfbIGKuSRc6DyWjUYRdlVK3ZdhM27ROcOwAw6s7wGvQDAdSixDrroV_7jlQYkc'}\n"
          ]
        }
      ]
    },
    {
      "cell_type": "code",
      "source": [],
      "metadata": {
        "id": "jfPvoapi8qx8"
      },
      "execution_count": null,
      "outputs": []
    }
  ]
}